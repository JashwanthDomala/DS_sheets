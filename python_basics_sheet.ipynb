{
 "cells": [
  {
   "cell_type": "markdown",
   "id": "2cb1a1c2-d7c8-47d2-b3ca-858f9528d073",
   "metadata": {},
   "source": [
    "# output printing Strings"
   ]
  },
  {
   "cell_type": "code",
   "execution_count": 23,
   "id": "194fea2f-0512-42e4-9446-56f5f497c5a0",
   "metadata": {},
   "outputs": [
    {
     "name": "stdout",
     "output_type": "stream",
     "text": [
      "hello world\n"
     ]
    }
   ],
   "source": [
    "#printing hello world\n",
    "print(\"hello world\")"
   ]
  },
  {
   "cell_type": "code",
   "execution_count": 15,
   "id": "73d8fa35-d075-4471-9e76-e04f3a23f1e1",
   "metadata": {},
   "outputs": [
    {
     "name": "stdout",
     "output_type": "stream",
     "text": [
      "Jashwanth\n"
     ]
    }
   ],
   "source": [
    "# printing my name \n",
    "print(\"Jashwanth\")"
   ]
  },
  {
   "cell_type": "markdown",
   "id": "0efb21fc-90d7-4ca6-9149-fca7432e5488",
   "metadata": {},
   "source": [
    "# variables"
   ]
  },
  {
   "cell_type": "code",
   "execution_count": 72,
   "id": "f5426ab5-1296-40f0-927a-488d72f25c0e",
   "metadata": {},
   "outputs": [],
   "source": [
    "name = \"jashwanth\"\n",
    "age = 19\n",
    "can_graduate = 4"
   ]
  },
  {
   "cell_type": "markdown",
   "id": "2b9d9357-9634-4320-8cfd-4f1002f4fd39",
   "metadata": {},
   "source": [
    "# data types"
   ]
  },
  {
   "cell_type": "code",
   "execution_count": 19,
   "id": "040287bc-e70f-4bc4-944a-c37050aa7397",
   "metadata": {
    "scrolled": true
   },
   "outputs": [
    {
     "name": "stdout",
     "output_type": "stream",
     "text": [
      "<class 'int'>\n",
      "<class 'float'>\n"
     ]
    },
    {
     "data": {
      "text/plain": [
       "bool"
      ]
     },
     "execution_count": 19,
     "metadata": {},
     "output_type": "execute_result"
    }
   ],
   "source": [
    "a =1\n",
    "b = 1.0\n",
    "c = True\n",
    "d = \"name\"\n",
    "print(type(a))\n",
    "print(type(b))\n",
    "type(c)\n"
   ]
  },
  {
   "cell_type": "markdown",
   "id": "1a8b4e40-7de1-4846-81de-75bfee74add6",
   "metadata": {},
   "source": [
    "# Input "
   ]
  },
  {
   "cell_type": "code",
   "execution_count": 153,
   "id": "0ac47b4b-d55a-4612-836c-94398c2bc33f",
   "metadata": {
    "scrolled": true
   },
   "outputs": [
    {
     "name": "stdin",
     "output_type": "stream",
     "text": [
      " Enter your name :  king\n"
     ]
    },
    {
     "name": "stdout",
     "output_type": "stream",
     "text": [
      "king\n"
     ]
    }
   ],
   "source": [
    "name = input(\" Enter your name : \")\n",
    "print(name)"
   ]
  },
  {
   "cell_type": "code",
   "execution_count": 154,
   "id": "cc347870-0a25-40f2-a1ab-4e5cdcfd2afa",
   "metadata": {},
   "outputs": [
    {
     "name": "stdin",
     "output_type": "stream",
     "text": [
      " enter your age :  18\n"
     ]
    },
    {
     "name": "stdout",
     "output_type": "stream",
     "text": [
      "<class 'str'>\n"
     ]
    },
    {
     "name": "stdin",
     "output_type": "stream",
     "text": [
      " enter your age :  18\n"
     ]
    },
    {
     "name": "stdout",
     "output_type": "stream",
     "text": [
      "<class 'int'>\n"
     ]
    }
   ],
   "source": [
    "# remember the defult type of input() is string we need to do typecaste for int(),float() etc..\n",
    "age1 = input(\" enter your age : \")\n",
    "print(type(age1))\n",
    "age2 = int(input(\" enter your age : \"))\n",
    "print(type(age2))"
   ]
  },
  {
   "cell_type": "markdown",
   "id": "a5bdaa67-9669-4f26-94ab-1e8a643d6a48",
   "metadata": {},
   "source": [
    "# String methods"
   ]
  },
  {
   "cell_type": "code",
   "execution_count": 20,
   "id": "1d455686-3c13-41ea-bf7f-2458a73b5c70",
   "metadata": {},
   "outputs": [
    {
     "data": {
      "text/plain": [
       "'HELLO WORLD'"
      ]
     },
     "execution_count": 20,
     "metadata": {},
     "output_type": "execute_result"
    }
   ],
   "source": [
    "\"Hello world\".upper()"
   ]
  },
  {
   "cell_type": "code",
   "execution_count": 22,
   "id": "2f00f01a-9bc6-4498-8692-4c4d38301b3c",
   "metadata": {},
   "outputs": [
    {
     "data": {
      "text/plain": [
       "'Hello World'"
      ]
     },
     "execution_count": 22,
     "metadata": {},
     "output_type": "execute_result"
    }
   ],
   "source": [
    "'hello world'.title()"
   ]
  },
  {
   "cell_type": "code",
   "execution_count": 24,
   "id": "92c478c1-bfb6-4f84-8634-7c79fb3e904f",
   "metadata": {},
   "outputs": [
    {
     "data": {
      "text/plain": [
       "3"
      ]
     },
     "execution_count": 24,
     "metadata": {},
     "output_type": "execute_result"
    }
   ],
   "source": [
    "\"hello  world\".count('l')"
   ]
  },
  {
   "cell_type": "code",
   "execution_count": 25,
   "id": "5781a37c-8007-4e15-ae3c-9b753f1f788d",
   "metadata": {},
   "outputs": [
    {
     "data": {
      "text/plain": [
       "'Hellu Wurld'"
      ]
     },
     "execution_count": 25,
     "metadata": {},
     "output_type": "execute_result"
    }
   ],
   "source": [
    "\"Hello World\".replace('o','u')"
   ]
  },
  {
   "cell_type": "markdown",
   "id": "7e99fe7e-f35e-4b18-b865-50aa99090d40",
   "metadata": {},
   "source": [
    "# printing variables useing formating"
   ]
  },
  {
   "cell_type": "code",
   "execution_count": null,
   "id": "909875b2-a687-48e3-81dd-1b07734f2058",
   "metadata": {},
   "outputs": [],
   "source": [
    "print(f'{name} can graduate in {age + can_graduate} years') # use f'' to make a formated string and use {Variables_name} "
   ]
  },
  {
   "cell_type": "code",
   "execution_count": 28,
   "id": "99f48c0a-63e4-481e-b731-541c61708ca1",
   "metadata": {},
   "outputs": [
    {
     "data": {
      "text/plain": [
       "2"
      ]
     },
     "execution_count": 28,
     "metadata": {},
     "output_type": "execute_result"
    }
   ],
   "source": [
    "a,b = 2,4\n",
    "a"
   ]
  },
  {
   "cell_type": "code",
   "execution_count": 29,
   "id": "8249092a-430d-415c-babb-051d72b78b17",
   "metadata": {},
   "outputs": [
    {
     "data": {
      "text/plain": [
       "4"
      ]
     },
     "execution_count": 29,
     "metadata": {},
     "output_type": "execute_result"
    }
   ],
   "source": [
    "b"
   ]
  },
  {
   "cell_type": "code",
   "execution_count": 30,
   "id": "95eeeab3-bbcb-4d1a-b3ff-41a37bea310c",
   "metadata": {},
   "outputs": [],
   "source": [
    "name,age,cgpa = \"jashwanth\",20,8.2"
   ]
  },
  {
   "cell_type": "code",
   "execution_count": 31,
   "id": "5a0d1b98-e8a4-4018-a085-8d65525e2c01",
   "metadata": {},
   "outputs": [
    {
     "data": {
      "text/plain": [
       "'jashwanth'"
      ]
     },
     "execution_count": 31,
     "metadata": {},
     "output_type": "execute_result"
    }
   ],
   "source": [
    "name"
   ]
  },
  {
   "cell_type": "code",
   "execution_count": 32,
   "id": "4398357e-1c29-476b-afec-45549225d451",
   "metadata": {},
   "outputs": [
    {
     "data": {
      "text/plain": [
       "20"
      ]
     },
     "execution_count": 32,
     "metadata": {},
     "output_type": "execute_result"
    }
   ],
   "source": [
    "age"
   ]
  },
  {
   "cell_type": "code",
   "execution_count": 33,
   "id": "f9e2a32b-9088-4ac0-9fa7-81db52efa732",
   "metadata": {},
   "outputs": [
    {
     "data": {
      "text/plain": [
       "8.2"
      ]
     },
     "execution_count": 33,
     "metadata": {},
     "output_type": "execute_result"
    }
   ],
   "source": [
    "cgpa"
   ]
  },
  {
   "cell_type": "code",
   "execution_count": 35,
   "id": "393571cc-f500-4dbf-b950-d04c08d9e3f0",
   "metadata": {},
   "outputs": [
    {
     "data": {
      "text/plain": [
       "(2, 4)"
      ]
     },
     "execution_count": 35,
     "metadata": {},
     "output_type": "execute_result"
    }
   ],
   "source": [
    "a,b"
   ]
  },
  {
   "cell_type": "code",
   "execution_count": 36,
   "id": "d3a3d687-d5ec-493e-8820-a0a5eec3d5b4",
   "metadata": {},
   "outputs": [
    {
     "data": {
      "text/plain": [
       "('jashwanth', 20)"
      ]
     },
     "execution_count": 36,
     "metadata": {},
     "output_type": "execute_result"
    }
   ],
   "source": [
    "name,age"
   ]
  },
  {
   "cell_type": "markdown",
   "id": "5c5e021e-bf40-4a21-b2a9-c9e6f1fbbb45",
   "metadata": {},
   "source": [
    "# printing variables without useing f'' String "
   ]
  },
  {
   "cell_type": "code",
   "execution_count": 73,
   "id": "1c84c5c4-8e19-4124-a5e2-136f0612ac5f",
   "metadata": {
    "scrolled": true
   },
   "outputs": [
    {
     "name": "stdout",
     "output_type": "stream",
     "text": [
      "jashwanth  is  19  years old\n"
     ]
    }
   ],
   "source": [
    "print(name,\" is \",age,\" years old\")"
   ]
  },
  {
   "cell_type": "markdown",
   "id": "06125bd3-d0a0-4e80-9ca0-c73596de70f7",
   "metadata": {},
   "source": [
    "# Lists [ ]"
   ]
  },
  {
   "cell_type": "code",
   "execution_count": 40,
   "id": "245d5aa2-9434-448e-a813-b63a327e1eba",
   "metadata": {},
   "outputs": [
    {
     "data": {
      "text/plain": [
       "[['jashwanth', 20, 8.1], ['sreekar', 20, 8.2]]"
      ]
     },
     "execution_count": 40,
     "metadata": {},
     "output_type": "execute_result"
    }
   ],
   "source": [
    "names = [['jashwanth',20,8.1],['sreekar',20,8.2]]\n",
    "names"
   ]
  },
  {
   "cell_type": "code",
   "execution_count": 41,
   "id": "0bdd72bf-e6da-4f32-8144-288f8032a23a",
   "metadata": {},
   "outputs": [
    {
     "data": {
      "text/plain": [
       "'jashwanth is 20 old and has 8.1 cgpa'"
      ]
     },
     "execution_count": 41,
     "metadata": {},
     "output_type": "execute_result"
    }
   ],
   "source": [
    "f'{names[0][0]} is {names[0][1]} old and has {names[0][2]} cgpa'"
   ]
  },
  {
   "cell_type": "markdown",
   "id": "102e4fc5-f1d9-4448-a6a6-07e35627b8f0",
   "metadata": {},
   "source": [
    "## slicing"
   ]
  },
  {
   "cell_type": "code",
   "execution_count": 42,
   "id": "71408d5d-754a-47ce-8646-ab1444f3c6d6",
   "metadata": {},
   "outputs": [
    {
     "data": {
      "text/plain": [
       "['sreekar', 20, 8.2]"
      ]
     },
     "execution_count": 42,
     "metadata": {},
     "output_type": "execute_result"
    }
   ],
   "source": [
    "names[-1]"
   ]
  },
  {
   "cell_type": "markdown",
   "id": "a732a0a2-3284-44de-8002-7c00b2bb13bc",
   "metadata": {},
   "source": [
    "###### List[ start index : endindex+1 : increment]"
   ]
  },
  {
   "cell_type": "code",
   "execution_count": 45,
   "id": "0ae29f96-5a9f-4349-9f1c-cc6ad1ef1052",
   "metadata": {},
   "outputs": [
    {
     "name": "stdout",
     "output_type": "stream",
     "text": [
      "['sreekar', 20, 8.2]\n",
      "['jashwanth', 20, 8.1]\n"
     ]
    }
   ],
   "source": [
    "for i in names[::-1]:\n",
    "    print(i)"
   ]
  },
  {
   "cell_type": "markdown",
   "id": "72a425af-9e21-4e0e-93c2-acb706455813",
   "metadata": {},
   "source": [
    "# Adding elements"
   ]
  },
  {
   "cell_type": "code",
   "execution_count": 46,
   "id": "83de7db3-1b35-4255-a197-289ba1c53f60",
   "metadata": {},
   "outputs": [
    {
     "data": {
      "text/plain": [
       "[['jashwanth', 20, 8.1], ['sreekar', 20, 8.2]]"
      ]
     },
     "execution_count": 46,
     "metadata": {},
     "output_type": "execute_result"
    }
   ],
   "source": [
    "names"
   ]
  },
  {
   "cell_type": "code",
   "execution_count": 59,
   "id": "9bede8d3-edb5-4d6e-a47b-03c345630ace",
   "metadata": {},
   "outputs": [],
   "source": [
    "names.append([\"ravi\",20,8.3]) # exicuted three times"
   ]
  },
  {
   "cell_type": "code",
   "execution_count": 51,
   "id": "b10b2fdf-2fdf-4ace-8d9d-ed252970a70f",
   "metadata": {},
   "outputs": [],
   "source": [
    "names.insert(0,[\"reventh\",20,9.0])"
   ]
  },
  {
   "cell_type": "code",
   "execution_count": 52,
   "id": "e2ba4878-37f8-4bbc-bef9-8cfa5bc76c6b",
   "metadata": {},
   "outputs": [
    {
     "data": {
      "text/plain": [
       "[['reventh', 20, 9.0],\n",
       " ['jashwanth', 20, 8.1],\n",
       " ['sreekar', 20, 8.2],\n",
       " ['ravi', 20, 8.3],\n",
       " ['ravi', 20, 8.3],\n",
       " ['ravi', 20, 8.3]]"
      ]
     },
     "execution_count": 52,
     "metadata": {},
     "output_type": "execute_result"
    }
   ],
   "source": [
    "names"
   ]
  },
  {
   "cell_type": "markdown",
   "id": "0aa0f992-182c-4191-afc8-0acb83725cad",
   "metadata": {},
   "source": [
    "# removeing in Lists"
   ]
  },
  {
   "cell_type": "code",
   "execution_count": 57,
   "id": "0792cf82-be82-4d53-a90c-b4e829ca325f",
   "metadata": {},
   "outputs": [],
   "source": [
    "names.remove(['ravi', 20, 8.3]) # removes first occurence of the object"
   ]
  },
  {
   "cell_type": "code",
   "execution_count": 58,
   "id": "63f2930f-dcd5-4764-bd19-723218d60eee",
   "metadata": {},
   "outputs": [
    {
     "data": {
      "text/plain": [
       "[['reventh', 20, 9.0],\n",
       " ['jashwanth', 20, 8.1],\n",
       " ['sreekar', 20, 8.2],\n",
       " ['ravi', 20, 8.3]]"
      ]
     },
     "execution_count": 58,
     "metadata": {},
     "output_type": "execute_result"
    }
   ],
   "source": [
    "names"
   ]
  },
  {
   "cell_type": "code",
   "execution_count": 60,
   "id": "e4380bbc-9e86-4f7e-addb-4a2554376a4d",
   "metadata": {},
   "outputs": [
    {
     "data": {
      "text/plain": [
       "['ravi', 20, 8.3]"
      ]
     },
     "execution_count": 60,
     "metadata": {},
     "output_type": "execute_result"
    }
   ],
   "source": [
    "names.pop() # removed the element of index -1 and returns it"
   ]
  },
  {
   "cell_type": "code",
   "execution_count": 61,
   "id": "9ccad334-5032-4de8-84f1-4696d300ed0e",
   "metadata": {},
   "outputs": [
    {
     "data": {
      "text/plain": [
       "[['reventh', 20, 9.0],\n",
       " ['jashwanth', 20, 8.1],\n",
       " ['sreekar', 20, 8.2],\n",
       " ['ravi', 20, 8.3]]"
      ]
     },
     "execution_count": 61,
     "metadata": {},
     "output_type": "execute_result"
    }
   ],
   "source": [
    "names"
   ]
  },
  {
   "cell_type": "code",
   "execution_count": 62,
   "id": "97bd2157-d07d-454e-b2a9-c27d3f85ca5d",
   "metadata": {},
   "outputs": [
    {
     "data": {
      "text/plain": [
       "['sreekar', 20, 8.2]"
      ]
     },
     "execution_count": 62,
     "metadata": {},
     "output_type": "execute_result"
    }
   ],
   "source": [
    "names.pop(2)"
   ]
  },
  {
   "cell_type": "code",
   "execution_count": 63,
   "id": "b61265bf-fa83-448a-bb74-463d360a20eb",
   "metadata": {},
   "outputs": [
    {
     "data": {
      "text/plain": [
       "[['reventh', 20, 9.0], ['jashwanth', 20, 8.1], ['ravi', 20, 8.3]]"
      ]
     },
     "execution_count": 63,
     "metadata": {},
     "output_type": "execute_result"
    }
   ],
   "source": [
    "names"
   ]
  },
  {
   "cell_type": "code",
   "execution_count": 64,
   "id": "ebecb377-b468-4638-b690-53923539ba87",
   "metadata": {},
   "outputs": [],
   "source": [
    "names.append(['sreekar',20,8.2])"
   ]
  },
  {
   "cell_type": "code",
   "execution_count": 65,
   "id": "335e8492-c05c-4b77-ad96-36d680e55224",
   "metadata": {},
   "outputs": [],
   "source": [
    "del names[0]"
   ]
  },
  {
   "cell_type": "code",
   "execution_count": 66,
   "id": "6dba9e8a-3143-4f0d-983e-22cac62e0f90",
   "metadata": {},
   "outputs": [
    {
     "data": {
      "text/plain": [
       "[['jashwanth', 20, 8.1], ['ravi', 20, 8.3], ['sreekar', 20, 8.2]]"
      ]
     },
     "execution_count": 66,
     "metadata": {},
     "output_type": "execute_result"
    }
   ],
   "source": [
    "names"
   ]
  },
  {
   "cell_type": "markdown",
   "id": "50eea2e5-58b0-48af-bbb3-e422fecf9155",
   "metadata": {},
   "source": [
    "# Sorting a List"
   ]
  },
  {
   "cell_type": "code",
   "execution_count": 70,
   "id": "a7dd20c6-dca1-4aea-af14-1565f818b4ce",
   "metadata": {},
   "outputs": [],
   "source": [
    "numbers = [23,52,34,65,94,74]"
   ]
  },
  {
   "cell_type": "code",
   "execution_count": 71,
   "id": "3337513f-c0a7-4029-b96e-f45b2a7367a0",
   "metadata": {},
   "outputs": [],
   "source": [
    "numbers.sort()"
   ]
  },
  {
   "cell_type": "code",
   "execution_count": 74,
   "id": "037d28b7-4964-4061-a2a7-2230114d97b6",
   "metadata": {},
   "outputs": [
    {
     "data": {
      "text/plain": [
       "[23, 34, 52, 65, 74, 94]"
      ]
     },
     "execution_count": 74,
     "metadata": {},
     "output_type": "execute_result"
    }
   ],
   "source": [
    "numbers"
   ]
  },
  {
   "cell_type": "code",
   "execution_count": 78,
   "id": "68ade6c7-005e-4703-80c9-1614d2a10a36",
   "metadata": {},
   "outputs": [],
   "source": [
    "numbers.sort(reverse = True) # decending order"
   ]
  },
  {
   "cell_type": "code",
   "execution_count": 77,
   "id": "85984273-b97c-4a08-95d4-5ebeccaa5d85",
   "metadata": {},
   "outputs": [
    {
     "data": {
      "text/plain": [
       "[94, 74, 65, 52, 34, 23]"
      ]
     },
     "execution_count": 77,
     "metadata": {},
     "output_type": "execute_result"
    }
   ],
   "source": [
    "numbers"
   ]
  },
  {
   "cell_type": "markdown",
   "id": "eb8a8ea5-211c-4578-8e99-cd9bef70e34d",
   "metadata": {},
   "source": [
    "# updating an Element"
   ]
  },
  {
   "cell_type": "code",
   "execution_count": 79,
   "id": "c984c2e0-8081-49d9-956a-31196cac853e",
   "metadata": {},
   "outputs": [
    {
     "data": {
      "text/plain": [
       "94"
      ]
     },
     "execution_count": 79,
     "metadata": {},
     "output_type": "execute_result"
    }
   ],
   "source": [
    "numbers[0]"
   ]
  },
  {
   "cell_type": "code",
   "execution_count": 80,
   "id": "ac268559-21ac-4c91-960f-7c8a75457362",
   "metadata": {},
   "outputs": [
    {
     "data": {
      "text/plain": [
       "30"
      ]
     },
     "execution_count": 80,
     "metadata": {},
     "output_type": "execute_result"
    }
   ],
   "source": [
    "numbers[0] = 30\n",
    "numbers[0]"
   ]
  },
  {
   "cell_type": "code",
   "execution_count": 81,
   "id": "bc6f188b-e524-4811-830a-660a68ea3574",
   "metadata": {},
   "outputs": [
    {
     "data": {
      "text/plain": [
       "[30, 74, 65, 52, 34, 23]"
      ]
     },
     "execution_count": 81,
     "metadata": {},
     "output_type": "execute_result"
    }
   ],
   "source": [
    "numbers"
   ]
  },
  {
   "cell_type": "markdown",
   "id": "48e7dd43-2616-4ff7-b4c7-29ccd955ac73",
   "metadata": {},
   "source": [
    "# copying a list"
   ]
  },
  {
   "cell_type": "markdown",
   "id": "b45a6145-3b58-41a8-a591-508870aab05b",
   "metadata": {},
   "source": [
    "##### In python list is a object if we try to copy it as a variable all changes made on the new list will reflect on the old list "
   ]
  },
  {
   "cell_type": "code",
   "execution_count": 83,
   "id": "14c9789e-e863-45a8-b391-8351341f679a",
   "metadata": {},
   "outputs": [
    {
     "data": {
      "text/plain": [
       "[2, 3, 4, 5]"
      ]
     },
     "execution_count": 83,
     "metadata": {},
     "output_type": "execute_result"
    }
   ],
   "source": [
    "# example \n",
    "\n",
    "list1 = [1,2,3,4,5]\n",
    "list2 = list1\n",
    "list2.pop(0)\n",
    "list1 # the element at index 0 of list one is poped "
   ]
  },
  {
   "cell_type": "markdown",
   "id": "a385a210-1007-44ae-b3f5-b8b63e3ec07a",
   "metadata": {},
   "source": [
    "##### to over come this we have to transfer all the elements from list1 to list2"
   ]
  },
  {
   "cell_type": "code",
   "execution_count": 84,
   "id": "7d98fcc0-cf00-44a5-a95f-84f57f255ba7",
   "metadata": {},
   "outputs": [
    {
     "data": {
      "text/plain": [
       "[2, 3, 4, 5]"
      ]
     },
     "execution_count": 84,
     "metadata": {},
     "output_type": "execute_result"
    }
   ],
   "source": [
    "list1[:]"
   ]
  },
  {
   "cell_type": "code",
   "execution_count": 86,
   "id": "aaebfa8c-3a2e-43a8-89a0-7629b7cebc02",
   "metadata": {},
   "outputs": [
    {
     "data": {
      "text/plain": [
       "[2, 3, 4, 5]"
      ]
     },
     "execution_count": 86,
     "metadata": {},
     "output_type": "execute_result"
    }
   ],
   "source": [
    "list2 = list1[:]\n",
    "list2"
   ]
  },
  {
   "cell_type": "code",
   "execution_count": 87,
   "id": "bc86a99c-c60f-424c-9fea-3feced528731",
   "metadata": {},
   "outputs": [
    {
     "data": {
      "text/plain": [
       "2"
      ]
     },
     "execution_count": 87,
     "metadata": {},
     "output_type": "execute_result"
    }
   ],
   "source": [
    "list2.pop(0)"
   ]
  },
  {
   "cell_type": "code",
   "execution_count": 89,
   "id": "be453b59-ac75-4075-ad0c-e73c4ca49aa2",
   "metadata": {},
   "outputs": [
    {
     "data": {
      "text/plain": [
       "[2, 3, 4, 5]"
      ]
     },
     "execution_count": 89,
     "metadata": {},
     "output_type": "execute_result"
    }
   ],
   "source": [
    "list1 # the element at index 0 is not deleted"
   ]
  },
  {
   "cell_type": "markdown",
   "id": "926f1705-6195-493d-86c4-f3abcb71ce33",
   "metadata": {},
   "source": [
    "###### we can use method copy"
   ]
  },
  {
   "cell_type": "code",
   "execution_count": 90,
   "id": "5c8f42c0-9b82-44ad-9d38-a55fbe8b648c",
   "metadata": {},
   "outputs": [
    {
     "data": {
      "text/plain": [
       "[2, 3, 4, 5]"
      ]
     },
     "execution_count": 90,
     "metadata": {},
     "output_type": "execute_result"
    }
   ],
   "source": [
    "list2 = list1.copy()\n",
    "list2"
   ]
  },
  {
   "cell_type": "code",
   "execution_count": 92,
   "id": "af43fa50-754d-4e68-bb6f-90f31a656be6",
   "metadata": {},
   "outputs": [
    {
     "name": "stdout",
     "output_type": "stream",
     "text": [
      "3\n"
     ]
    },
    {
     "data": {
      "text/plain": [
       "[2, 3, 4, 5]"
      ]
     },
     "execution_count": 92,
     "metadata": {},
     "output_type": "execute_result"
    }
   ],
   "source": [
    "print(list2.pop(0))\n",
    "list1"
   ]
  },
  {
   "cell_type": "markdown",
   "id": "08fdf1d9-c616-4c81-a2c5-d64ea7a2f7ae",
   "metadata": {},
   "source": [
    "# Dictionary"
   ]
  },
  {
   "cell_type": "code",
   "execution_count": 94,
   "id": "1047e1bb-f260-4139-8795-c6bc743430e0",
   "metadata": {},
   "outputs": [],
   "source": [
    "rolls = {\"DJ\" : \"5cn\",\"Sreekar\" : \"5cf\", \"ravi\": 32}"
   ]
  },
  {
   "cell_type": "code",
   "execution_count": 95,
   "id": "9339d98f-7025-471e-afea-a266d9b3dd69",
   "metadata": {},
   "outputs": [
    {
     "data": {
      "text/plain": [
       "{'DJ': '5cn', 'Sreekar': '5cf', 'ravi': 32}"
      ]
     },
     "execution_count": 95,
     "metadata": {},
     "output_type": "execute_result"
    }
   ],
   "source": [
    "rolls"
   ]
  },
  {
   "cell_type": "code",
   "execution_count": 96,
   "id": "df417404-fe96-4c18-a5c6-00581624de86",
   "metadata": {},
   "outputs": [
    {
     "data": {
      "text/plain": [
       "dict_keys(['DJ', 'Sreekar', 'ravi'])"
      ]
     },
     "execution_count": 96,
     "metadata": {},
     "output_type": "execute_result"
    }
   ],
   "source": [
    "rolls.keys()"
   ]
  },
  {
   "cell_type": "code",
   "execution_count": 97,
   "id": "043cdad1-16c5-45b8-a8a3-fc44767338b9",
   "metadata": {},
   "outputs": [
    {
     "data": {
      "text/plain": [
       "dict_values(['5cn', '5cf', 32])"
      ]
     },
     "execution_count": 97,
     "metadata": {},
     "output_type": "execute_result"
    }
   ],
   "source": [
    "rolls.values()"
   ]
  },
  {
   "cell_type": "code",
   "execution_count": 98,
   "id": "aa0e8e1a-fef8-4856-bc87-fd08004eb513",
   "metadata": {},
   "outputs": [
    {
     "data": {
      "text/plain": [
       "dict_items([('DJ', '5cn'), ('Sreekar', '5cf'), ('ravi', 32)])"
      ]
     },
     "execution_count": 98,
     "metadata": {},
     "output_type": "execute_result"
    }
   ],
   "source": [
    "rolls.items()"
   ]
  },
  {
   "cell_type": "markdown",
   "id": "2ca97987-1662-4807-b5c2-30d9234e141c",
   "metadata": {},
   "source": [
    "### Adding Elements"
   ]
  },
  {
   "cell_type": "code",
   "execution_count": 99,
   "id": "93d76638-1d3c-4c8d-99c6-78f34a26eea4",
   "metadata": {},
   "outputs": [],
   "source": [
    "rolls[\"reventh\"] = \"5cq\""
   ]
  },
  {
   "cell_type": "code",
   "execution_count": 100,
   "id": "993255be-b610-42d1-a664-70de3270c378",
   "metadata": {},
   "outputs": [
    {
     "data": {
      "text/plain": [
       "{'DJ': '5cn', 'Sreekar': '5cf', 'ravi': 32, 'reventh': '5cq'}"
      ]
     },
     "execution_count": 100,
     "metadata": {},
     "output_type": "execute_result"
    }
   ],
   "source": [
    "rolls"
   ]
  },
  {
   "cell_type": "markdown",
   "id": "24ccac52-b03a-4bde-8e2a-ad9e6328f0fc",
   "metadata": {},
   "source": [
    "#### updating a vlaue of a key"
   ]
  },
  {
   "cell_type": "code",
   "execution_count": 101,
   "id": "c79255fd-bd0c-432d-90fe-461208cd7232",
   "metadata": {},
   "outputs": [
    {
     "data": {
      "text/plain": [
       "{'DJ': '5cn', 'Sreekar': '5cf', 'ravi': '5cl', 'reventh': '5cq'}"
      ]
     },
     "execution_count": 101,
     "metadata": {},
     "output_type": "execute_result"
    }
   ],
   "source": [
    "rolls.update({\"ravi\": \"5cl\"})\n",
    "rolls"
   ]
  },
  {
   "cell_type": "markdown",
   "id": "0c5c98b4-b352-41cf-88d8-d00ea46fecc3",
   "metadata": {},
   "source": [
    "### copying a dictionary"
   ]
  },
  {
   "cell_type": "code",
   "execution_count": 102,
   "id": "8b3bdad9-6aaf-48b4-b201-46fb99074d21",
   "metadata": {},
   "outputs": [
    {
     "data": {
      "text/plain": [
       "{'DJ': '5cn', 'Sreekar': '5cf', 'ravi': '5cl', 'reventh': '5cq'}"
      ]
     },
     "execution_count": 102,
     "metadata": {},
     "output_type": "execute_result"
    }
   ],
   "source": [
    "rolls2  = rolls.copy() # we use rolls2 = rolls we get the same problem as in lists \n",
    "rolls2"
   ]
  },
  {
   "cell_type": "markdown",
   "id": "a8b88e09-1f0d-4546-9544-41bfda7be001",
   "metadata": {},
   "source": [
    "### Removing element"
   ]
  },
  {
   "cell_type": "code",
   "execution_count": 104,
   "id": "67b6fcd5-f45e-4173-8059-a99382d1bd2f",
   "metadata": {},
   "outputs": [
    {
     "data": {
      "text/plain": [
       "'5cf'"
      ]
     },
     "execution_count": 104,
     "metadata": {},
     "output_type": "execute_result"
    }
   ],
   "source": [
    "rolls2.pop(\"Sreekar\")"
   ]
  },
  {
   "cell_type": "code",
   "execution_count": 105,
   "id": "5e3a98f2-8675-4963-b6ad-9cb3519fca5d",
   "metadata": {},
   "outputs": [
    {
     "name": "stdout",
     "output_type": "stream",
     "text": [
      "{'DJ': '5cn', 'ravi': '5cl', 'reventh': '5cq'}\n"
     ]
    },
    {
     "data": {
      "text/plain": [
       "{'DJ': '5cn', 'Sreekar': '5cf', 'ravi': '5cl', 'reventh': '5cq'}"
      ]
     },
     "execution_count": 105,
     "metadata": {},
     "output_type": "execute_result"
    }
   ],
   "source": [
    "print(rolls2)\n",
    "rolls"
   ]
  },
  {
   "cell_type": "markdown",
   "id": "9be81ba1-74a5-4076-b1f0-a97933fd8491",
   "metadata": {},
   "source": [
    "### we can use clear method to clean a dictionary"
   ]
  },
  {
   "cell_type": "code",
   "execution_count": 110,
   "id": "9083ee8a-9a9a-44a4-bbe1-8af15801353e",
   "metadata": {},
   "outputs": [
    {
     "data": {
      "text/plain": [
       "{}"
      ]
     },
     "execution_count": 110,
     "metadata": {},
     "output_type": "execute_result"
    }
   ],
   "source": [
    "rolls2.clear() # we can also use clear for lists\n",
    "rolls2"
   ]
  },
  {
   "cell_type": "markdown",
   "id": "cb35d5f3-5ebe-4584-8a8f-3900e4b24bce",
   "metadata": {},
   "source": [
    "# If Statement"
   ]
  },
  {
   "cell_type": "markdown",
   "id": "e887709d-d89a-41f8-b21d-a48eadf7fac6",
   "metadata": {},
   "source": [
    "if <condition>:\n",
    "    <Code>\n",
    "elif <condition>:\n",
    "    <code>\n",
    "....\n",
    "else:\n",
    "    <code>"
   ]
  },
  {
   "cell_type": "code",
   "execution_count": 112,
   "id": "1b818413-57b5-4903-b9fc-4571cd462f72",
   "metadata": {},
   "outputs": [
    {
     "name": "stdout",
     "output_type": "stream",
     "text": [
      " you are not adult\n"
     ]
    }
   ],
   "source": [
    "age =14\n",
    "\n",
    "if age>= 18:\n",
    "    print(\" you are  adult\")\n",
    "elif age<0:\n",
    "    print(\"age invalid\")\n",
    "else:\n",
    "    print(\" you are not adult\")"
   ]
  },
  {
   "cell_type": "markdown",
   "id": "aa0b21f2-d4a0-42c3-8978-49f9b38ddc0b",
   "metadata": {},
   "source": [
    "# For loop"
   ]
  },
  {
   "cell_type": "markdown",
   "id": "4300e20d-47bf-42d8-90fe-e2f4846f5f0f",
   "metadata": {},
   "source": [
    "for <variable> in <list>:\n",
    "    <code>"
   ]
  },
  {
   "cell_type": "code",
   "execution_count": 113,
   "id": "e8e67a40-6569-4d84-88f1-93235751300a",
   "metadata": {},
   "outputs": [
    {
     "data": {
      "text/plain": [
       "[['jashwanth', 20, 8.1], ['ravi', 20, 8.3], ['sreekar', 20, 8.2]]"
      ]
     },
     "execution_count": 113,
     "metadata": {},
     "output_type": "execute_result"
    }
   ],
   "source": [
    "names"
   ]
  },
  {
   "cell_type": "code",
   "execution_count": 114,
   "id": "2a2cc46f-69d3-4bbe-b36e-7a3537b77a0f",
   "metadata": {},
   "outputs": [
    {
     "name": "stdout",
     "output_type": "stream",
     "text": [
      "jashwanth 20 8.1 "
     ]
    }
   ],
   "source": [
    "for i in names[0]:\n",
    "    print(i,end=\" \")"
   ]
  },
  {
   "cell_type": "markdown",
   "id": "1e93022e-7b4e-4cf4-a74e-d6cf386b893b",
   "metadata": {},
   "source": [
    "### WE CAN USE enumerate FUNCTION WITH for TO TRACK INDICES "
   ]
  },
  {
   "cell_type": "code",
   "execution_count": 117,
   "id": "bcc78be4-e1b0-45cb-8446-18c376efd721",
   "metadata": {},
   "outputs": [
    {
     "name": "stdout",
     "output_type": "stream",
     "text": [
      "jashwanth  ->  0\n",
      "20  ->  1\n",
      "8.1  ->  2\n"
     ]
    }
   ],
   "source": [
    "for index,i in enumerate(names[0]):\n",
    "    print(i,\" -> \",index)"
   ]
  },
  {
   "cell_type": "markdown",
   "id": "ca707610-825c-4f1e-bd78-f10a5461f9de",
   "metadata": {},
   "source": [
    "#### range() method in python"
   ]
  },
  {
   "cell_type": "code",
   "execution_count": 123,
   "id": "6a5b29fd-e3d6-4277-bc8f-f82476e99cb1",
   "metadata": {},
   "outputs": [
    {
     "name": "stdout",
     "output_type": "stream",
     "text": [
      "0 2 4 6 8 "
     ]
    }
   ],
   "source": [
    "for i in range(0,10,2): # we use range so often with for loop to interate from range(Start_Value,End_Value+1,Increment)\n",
    "    print(i,end =\" \")"
   ]
  },
  {
   "cell_type": "markdown",
   "id": "79958e4e-7578-456d-9b3b-8eb72ab52ec5",
   "metadata": {},
   "source": [
    "### Looping through dictionary"
   ]
  },
  {
   "cell_type": "code",
   "execution_count": 124,
   "id": "ecde4218-97d0-4c41-abca-424fa28f814d",
   "metadata": {},
   "outputs": [
    {
     "name": "stdout",
     "output_type": "stream",
     "text": [
      "DJ  --  5cn\n",
      "Sreekar  --  5cf\n",
      "ravi  --  5cl\n",
      "reventh  --  5cq\n"
     ]
    }
   ],
   "source": [
    "# we use .items() if we need both key's and values\n",
    "# we use .values() if we need only values\n",
    "# we use .keys() if we need only keys's \n",
    "for name,roll in rolls.items():\n",
    "    print(name,\" -- \",roll)"
   ]
  },
  {
   "cell_type": "markdown",
   "id": "71967ff8-fdd5-432d-82b6-5982e9c9a4c3",
   "metadata": {},
   "source": [
    "# function\n"
   ]
  },
  {
   "cell_type": "code",
   "execution_count": 127,
   "id": "dc473856-72f3-41a6-b8bd-c5583b724ad1",
   "metadata": {},
   "outputs": [
    {
     "name": "stdout",
     "output_type": "stream",
     "text": [
      "jashwanth ravi sreekar "
     ]
    },
    {
     "data": {
      "text/plain": [
       "[['jashwanth', 20, 8.1], ['ravi', 20, 8.3], ['sreekar', 20, 8.2]]"
      ]
     },
     "execution_count": 127,
     "metadata": {},
     "output_type": "execute_result"
    }
   ],
   "source": [
    "# to define  a fucntion by useing def keyword\n",
    "def printNames(a):\n",
    "    for i in a:\n",
    "        print(i[0],end=\" \")\n",
    "printNames(names)\n",
    "names\n",
    "        "
   ]
  },
  {
   "cell_type": "markdown",
   "id": "f60b5c7b-ce96-45db-af92-ec6f6b45412b",
   "metadata": {},
   "source": [
    "#### function can also return objects"
   ]
  },
  {
   "cell_type": "code",
   "execution_count": 135,
   "id": "c2358a70-9cc1-41f2-b534-5011b9696151",
   "metadata": {},
   "outputs": [
    {
     "name": "stdout",
     "output_type": "stream",
     "text": [
      "9\n",
      "htneveR\n"
     ]
    },
    {
     "data": {
      "text/plain": [
       "4"
      ]
     },
     "execution_count": 135,
     "metadata": {},
     "output_type": "execute_result"
    }
   ],
   "source": [
    "def square(a):\n",
    "    return a*a\n",
    "def add(a,b):\n",
    "    return a+b\n",
    "def return_reverse_string(a):\n",
    "    rs = ''.join(reversed(a))\n",
    "    return rs\n",
    "print(add(4,5))\n",
    "print(return_reverse_string(\"Reventh\"))\n",
    "square(2)"
   ]
  },
  {
   "cell_type": "markdown",
   "id": "c8049c5c-ef5d-4642-9346-f93c301e2e7b",
   "metadata": {},
   "source": [
    "### we can alo give default arguments "
   ]
  },
  {
   "cell_type": "code",
   "execution_count": 141,
   "id": "46457634-d5d7-4a1b-a00b-591b6d0ca0b2",
   "metadata": {},
   "outputs": [
    {
     "name": "stdout",
     "output_type": "stream",
     "text": [
      "Welcome ravi\n",
      "Welcome Home  reventh\n"
     ]
    }
   ],
   "source": [
    "def welcome(name,message=\"Welcome\"):  # if no argument is passed it considers the defult \n",
    "    return f'{message} {name}'\n",
    "print(welcome(\"ravi\"))\n",
    "print(welcome(\"reventh\",\"Welcome Home \"))"
   ]
  },
  {
   "cell_type": "markdown",
   "id": "3a1ad468-f741-41f3-92b9-19b08eca3f27",
   "metadata": {},
   "source": [
    "#### we can also give variable number of arguments"
   ]
  },
  {
   "cell_type": "code",
   "execution_count": 144,
   "id": "4586251f-a20b-46d8-9cc4-84fa5df5466c",
   "metadata": {},
   "outputs": [],
   "source": [
    "def sum_of_numbers(*numbers): # Generally we use *args as arguments \n",
    "    return sum(numbers)"
   ]
  },
  {
   "cell_type": "code",
   "execution_count": 145,
   "id": "1c103d98-17a5-439e-b37b-e687df01bb3b",
   "metadata": {},
   "outputs": [
    {
     "data": {
      "text/plain": [
       "61"
      ]
     },
     "execution_count": 145,
     "metadata": {},
     "output_type": "execute_result"
    }
   ],
   "source": [
    "sum_of_numbers(1,2,3,4,5,12,34)"
   ]
  },
  {
   "cell_type": "markdown",
   "id": "7493f19b-12fb-4586-8587-141bf6204e5b",
   "metadata": {},
   "source": [
    "#### we can also give variable keyword arguments "
   ]
  },
  {
   "cell_type": "code",
   "execution_count": 151,
   "id": "3c13d2f5-ed86-4c33-b959-5e0a17f41d74",
   "metadata": {},
   "outputs": [
    {
     "name": "stdout",
     "output_type": "stream",
     "text": [
      "name->soumith\n",
      "age->19\n"
     ]
    }
   ],
   "source": [
    "def student_info(**details): #  generally we use **kargs as arguments \n",
    "    for key,value in details.items():\n",
    "        print(f'{key}->{value}')\n",
    "student_info(name='soumith',age=19)"
   ]
  },
  {
   "cell_type": "markdown",
   "id": "127808e0-c29d-42be-8eaa-0177992e2820",
   "metadata": {},
   "source": [
    "#### Type Hints (Function Annotations)"
   ]
  },
  {
   "cell_type": "code",
   "execution_count": 155,
   "id": "23efd280-e349-4d28-9d43-b54917bb3a32",
   "metadata": {},
   "outputs": [],
   "source": [
    "def add(a: int, b: int) -> int: #These are hints only like it take arguments of type int,int and returns int\n",
    "    return a + b\n"
   ]
  },
  {
   "cell_type": "markdown",
   "id": "96996a4f-2c20-444f-ad6c-602a3f3aee50",
   "metadata": {},
   "source": [
    "## Built-in Fuctions "
   ]
  },
  {
   "cell_type": "code",
   "execution_count": null,
   "id": "b589cfb8-1b97-4f4d-99d4-70f0426c2bcd",
   "metadata": {},
   "outputs": [],
   "source": []
  },
  {
   "cell_type": "code",
   "execution_count": 156,
   "id": "b3c4163e-07e5-4331-a1d8-a224af6cc2b7",
   "metadata": {},
   "outputs": [
    {
     "data": {
      "text/plain": [
       "3"
      ]
     },
     "execution_count": 156,
     "metadata": {},
     "output_type": "execute_result"
    }
   ],
   "source": [
    "len(names) # length of str,list,dict"
   ]
  },
  {
   "cell_type": "code",
   "execution_count": 161,
   "id": "9e07770d-01d6-472e-a20a-4943dd3316ca",
   "metadata": {},
   "outputs": [
    {
     "data": {
      "text/plain": [
       "66565"
      ]
     },
     "execution_count": 161,
     "metadata": {},
     "output_type": "execute_result"
    }
   ],
   "source": [
    "max([1,12,3434,56,678,76,66565]) # returns max value from the list"
   ]
  },
  {
   "cell_type": "code",
   "execution_count": 162,
   "id": "9f07f375-09d5-4cf6-a568-7375a6cae94c",
   "metadata": {},
   "outputs": [
    {
     "data": {
      "text/plain": [
       "1"
      ]
     },
     "execution_count": 162,
     "metadata": {},
     "output_type": "execute_result"
    }
   ],
   "source": [
    "min([1,12,3434,56,678,76,66565])"
   ]
  },
  {
   "cell_type": "code",
   "execution_count": 163,
   "id": "6a9ec93e-79b2-40f7-82c8-2cc404b95318",
   "metadata": {},
   "outputs": [
    {
     "data": {
      "text/plain": [
       "list"
      ]
     },
     "execution_count": 163,
     "metadata": {},
     "output_type": "execute_result"
    }
   ],
   "source": [
    "type(names)"
   ]
  },
  {
   "cell_type": "code",
   "execution_count": 167,
   "id": "1c0bd46b-e498-41b7-bb32-8771ba8f2c57",
   "metadata": {},
   "outputs": [
    {
     "name": "stdout",
     "output_type": "stream",
     "text": [
      "1 2 3 4 5 6 7 8 9 10 11 12 "
     ]
    }
   ],
   "source": [
    "for i in range(1,13,1):\n",
    "    print(i,end=' ')"
   ]
  },
  {
   "cell_type": "markdown",
   "id": "5f9b62d6-f012-49f1-8a7e-4c9d3e8dd3c3",
   "metadata": {
    "jupyter": {
     "source_hidden": true
    }
   },
   "source": [
    " ### 🔍 Useful but Often Forgotten Python Built-in Functions\n",
    "\n",
    "| Function                    | Use                                         |\n",
    "| --------------------------- | ------------------------------------------- |\n",
    "| `all(iterable)`             | Returns `True` if **all** elements are true |\n",
    "| `any(iterable)`             | Returns `True` if **any** element is true   |\n",
    "| `chr()` / `ord()`           | Converts between character and Unicode      |\n",
    "| `bin()` / `hex()` / `oct()` | Converts number to binary, hex, oct         |\n",
    "| `format()`                  | Format string/number                        |\n",
    "| `globals()` / `locals()`    | Returns dict of current scope variables     |\n",
    "| `slice()`                   | Creates a slice object (used in indexing)   |\n"
   ]
  },
  {
   "cell_type": "code",
   "execution_count": 185,
   "id": "056af32b-e28c-4f6d-a408-89f56f4266b6",
   "metadata": {},
   "outputs": [
    {
     "name": "stdout",
     "output_type": "stream",
     "text": [
      "True\n",
      "True\n",
      "0b1010\n",
      "A\n",
      "65\n"
     ]
    }
   ],
   "source": [
    "nums = [1,2,3,4,45,6,23432]\n",
    "print(all(x > 0 for x in nums))  # True\n",
    "print(any(x > 3 for x in nums))  # True\n",
    "print(bin(10))  # '0b1010'\n",
    "print(chr(65))  # 'A'\n",
    "print(ord('A'))  # 65"
   ]
  },
  {
   "cell_type": "markdown",
   "id": "c0427954-26b4-475f-bcb2-1d4a7f5b119c",
   "metadata": {},
   "source": [
    "# Modules"
   ]
  },
  {
   "cell_type": "markdown",
   "id": "50313e40-7118-4ec9-9f77-fe2253fd6264",
   "metadata": {},
   "source": [
    "import <module_name> as <variable_name_of_the_module_if_you_like>\n",
    "example:\n",
    "import numpy # also works but we have to use numpy always\n",
    "import numpy as np"
   ]
  },
  {
   "cell_type": "markdown",
   "id": "c2ce619d-673b-4f00-890f-515329e7725f",
   "metadata": {},
   "source": [
    "## os Module"
   ]
  },
  {
   "cell_type": "code",
   "execution_count": 170,
   "id": "ab65c392-d104-495c-a6df-26dd40b8df26",
   "metadata": {},
   "outputs": [],
   "source": [
    "import os"
   ]
  },
  {
   "cell_type": "code",
   "execution_count": 171,
   "id": "1f56c23e-a348-4fd0-a4ff-1d1b4f594eea",
   "metadata": {},
   "outputs": [
    {
     "data": {
      "text/plain": [
       "'C:\\\\Users\\\\AMD\\\\anoconda scripts'"
      ]
     },
     "execution_count": 171,
     "metadata": {},
     "output_type": "execute_result"
    }
   ],
   "source": [
    "os.getcwd() # gives your current working directory"
   ]
  },
  {
   "cell_type": "code",
   "execution_count": 172,
   "id": "b50a57fe-d9ab-4c1a-8de2-50f535354ebe",
   "metadata": {},
   "outputs": [
    {
     "data": {
      "text/plain": [
       "['.ipynb_checkpoints', 'example.ipynb']"
      ]
     },
     "execution_count": 172,
     "metadata": {},
     "output_type": "execute_result"
    }
   ],
   "source": [
    "os.listdir() # gives list of all files,folders etc.. present in cwd"
   ]
  },
  {
   "cell_type": "code",
   "execution_count": 181,
   "id": "f98322ad-8ced-4d6a-b825-e2c687e3c38d",
   "metadata": {
    "scrolled": true
   },
   "outputs": [],
   "source": [
    "os.makedirs(\"New Folder\")"
   ]
  },
  {
   "cell_type": "code",
   "execution_count": 182,
   "id": "58e237bc-b5f0-49e8-8f3b-f2c025bd6907",
   "metadata": {},
   "outputs": [
    {
     "name": "stdout",
     "output_type": "stream",
     "text": [
      "['.ipynb_checkpoints', 'example.ipynb', 'New Folder']\n",
      "['.ipynb_checkpoints', 'example.ipynb']\n"
     ]
    }
   ],
   "source": [
    "print(os.listdir())\n",
    "\n",
    "if os.path.exists(\"file.txt\"):\n",
    "    os.remove(\"file.txt\")\n",
    "\n",
    "if os.path.isdir(\"New Folder\"):\n",
    "    os.rmdir(\"New Folder\")\n",
    "\n",
    "print(os.listdir())\n"
   ]
  },
  {
   "cell_type": "code",
   "execution_count": null,
   "id": "bc03facb-e9bf-430d-959b-c4289ee1fd77",
   "metadata": {},
   "outputs": [],
   "source": []
  }
 ],
 "metadata": {
  "kernelspec": {
   "display_name": "Python [conda env:base] *",
   "language": "python",
   "name": "conda-base-py"
  },
  "language_info": {
   "codemirror_mode": {
    "name": "ipython",
    "version": 3
   },
   "file_extension": ".py",
   "mimetype": "text/x-python",
   "name": "python",
   "nbconvert_exporter": "python",
   "pygments_lexer": "ipython3",
   "version": "3.13.5"
  }
 },
 "nbformat": 4,
 "nbformat_minor": 5
}
